{
 "cells": [
  {
   "cell_type": "code",
   "execution_count": 15,
   "metadata": {},
   "outputs": [],
   "source": [
    "from matplotlib import pyplot as plt \n",
    "import numpy as np"
   ]
  },
  {
   "cell_type": "code",
   "execution_count": 16,
   "metadata": {},
   "outputs": [],
   "source": [
    "#AND, OR & XOR GATE\n",
    "data = [[0, 0, 0],\n",
    "        [0, 1, 0],\n",
    "        [1, 0, 0],\n",
    "        [1, 1, 1]]"
   ]
  },
  {
   "cell_type": "code",
   "execution_count": 17,
   "metadata": {},
   "outputs": [],
   "source": [
    "def sigmoid(x):\n",
    "    return 1/(1 + np.exp(-x))\n",
    "\n",
    "def sigmoid_d(x):\n",
    "    return sigmoid(x) * (1-sigmoid(x))"
   ]
  },
  {
   "cell_type": "code",
   "execution_count": 18,
   "metadata": {},
   "outputs": [
    {
     "data": {
      "image/png": "[encoded data removed]",
      "text/plain": [
       "<Figure size 432x288 with 1 Axes>"
      ]
     },
     "metadata": {
      "needs_background": "light"
     },
     "output_type": "display_data"
    }
   ],
   "source": [
    "# SCATTER DATA\n",
    "\n",
    "plt.grid()\n",
    "for  i in range(len(data)):\n",
    "    point = data[i]\n",
    "    color = \"yellow\"\n",
    "    if point[2] == 0:\n",
    "       color = \"blue\"\n",
    "    plt.scatter(point[0], point[1], c=color)"
   ]
  },
  {
   "cell_type": "code",
   "execution_count": 19,
   "metadata": {},
   "outputs": [],
   "source": [
    "learningRate = 10\n",
    "\n",
    "errors = []\n",
    "\n",
    "# NETWORK\n",
    "\n",
    "w1 = np.random.randn()\n",
    "w2 = np.random.randn()\n",
    "d  = np.random.randn()\n",
    "\n",
    "# TRAINING LOOP\n",
    "for i in range(1000):\n",
    "\n",
    "    index = np.random.randint(len(data))\n",
    "    point = data[index]\n",
    "    \n",
    "    z = point[0] * w1 + point[1] * w2 + d\n",
    "   \n",
    "    h = sigmoid(z)\n",
    "    \n",
    "    target = point[2]\n",
    "    error = np.square(h - target)\n",
    "    \n",
    "    errors.append(error)\n",
    "    \n",
    "    derror = 2 * (h - target)\n",
    "    \n",
    "    dh_dz = sigmoid_d(z)\n",
    "    dz_dw1 = point[0]\n",
    "    dz_dw2 = point[1]\n",
    "    dz_dd  = 1\n",
    "\n",
    "    derror_dz = derror * dh_dz\n",
    "    \n",
    "    derror_dw1 = derror_dz * dz_dw1\n",
    "    derror_dw2 = derror_dz * dz_dw2\n",
    "    derror_dd  = derror_dz * dz_dd\n",
    "    \n",
    "    \n",
    "    w1 = w1 - learningRate * derror_dw1\n",
    "    w2 = w2 - learningRate * derror_dw2\n",
    "    d  =  d - learningRate * derror_dd\n",
    "  "
   ]
  },
  {
   "cell_type": "code",
   "execution_count": 20,
   "metadata": {},
   "outputs": [
    {
     "name": "stdout",
     "output_type": "stream",
     "text": [
      "[0, 0, 0]\n",
      " pred: 1.1410404476255194e-05\n",
      "[0, 1, 0]\n",
      " pred: 0.02010568989188658\n",
      "[1, 0, 0]\n",
      " pred: 0.019894782093683915\n",
      "[1, 1, 1]\n",
      " pred: 0.9733337737814485\n"
     ]
    }
   ],
   "source": [
    "# SEEING MODEL PREDICTIONS\n",
    "\n",
    "for i in range(len(data)):\n",
    "    point = data[i]\n",
    "    print(point)\n",
    "    z = point[0] * w1 + point[1] * w2 + d\n",
    "    h = sigmoid(z)\n",
    "    print(\" pred: {}\".format(h))\n"
   ]
  }
 ],
 "metadata": {
  "kernelspec": {
   "display_name": "Python 3",
   "language": "python",
   "name": "python3"
  },
  "language_info": {
   "codemirror_mode": {
    "name": "ipython",
    "version": 3
   },
   "file_extension": ".py",
   "mimetype": "text/x-python",
   "name": "python",
   "nbconvert_exporter": "python",
   "pygments_lexer": "ipython3",
   "version": "3.7.4"
  }
 },
 "nbformat": 4,
 "nbformat_minor": 2
}
